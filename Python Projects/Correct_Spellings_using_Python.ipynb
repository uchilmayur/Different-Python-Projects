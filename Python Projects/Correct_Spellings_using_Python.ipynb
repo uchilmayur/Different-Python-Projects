{
  "nbformat": 4,
  "nbformat_minor": 0,
  "metadata": {
    "colab": {
      "name": "Correct Spellings using Python",
      "provenance": []
    },
    "kernelspec": {
      "name": "python3",
      "display_name": "Python 3"
    },
    "language_info": {
      "name": "python"
    },
    "accelerator": "GPU",
    "gpuClass": "standard"
  },
  "cells": [
    {
      "cell_type": "markdown",
      "source": [
        "Correcting spelling mistakes is an integral part of writing in the modern world, whether it is part of texting a phone, sending an email, writing large documents or searching for information on the web.\n",
        "In machine learning, spelling correction and spell checking is a well-known and well-studied problem in natural language processing. "
      ],
      "metadata": {
        "id": "Rrhb_35PJZQ_"
      }
    },
    {
      "cell_type": "code",
      "source": [
        "from textblob import TextBlob\n",
        "words = [\"Data Scence\", \"Mahine Learnin\"]\n",
        "corrected_words = []\n",
        "for i in words:\n",
        "    corrected_words.append(TextBlob(i))\n",
        "print(\"Wrong words :\", words)\n",
        "print(\"Corrected Words are :\")\n",
        "for i in corrected_words:\n",
        "    print(i.correct(), end=\" \")"
      ],
      "metadata": {
        "colab": {
          "base_uri": "https://localhost:8080/"
        },
        "id": "Vp8w2WfcJubY",
        "outputId": "af8cc454-6d76-440a-eade-2ef940d6ee46"
      },
      "execution_count": 33,
      "outputs": [
        {
          "output_type": "stream",
          "name": "stdout",
          "text": [
            "Wrong words : ['Data Scence', 'Mahine Learnin']\n",
            "Corrected Words are :\n",
            "Data Science Machine Learning "
          ]
        }
      ]
    },
    {
      "cell_type": "code",
      "source": [
        ""
      ],
      "metadata": {
        "id": "iAiQZ1opKPam"
      },
      "execution_count": null,
      "outputs": []
    }
  ]
}