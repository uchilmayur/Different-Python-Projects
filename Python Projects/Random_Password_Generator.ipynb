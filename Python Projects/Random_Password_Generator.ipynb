{
  "nbformat": 4,
  "nbformat_minor": 0,
  "metadata": {
    "colab": {
      "name": "Random Password Generator",
      "provenance": []
    },
    "kernelspec": {
      "name": "python3",
      "display_name": "Python 3"
    },
    "language_info": {
      "name": "python"
    },
    "accelerator": "GPU",
    "gpuClass": "standard"
  },
  "cells": [
    {
      "cell_type": "code",
      "execution_count": 9,
      "metadata": {
        "colab": {
          "base_uri": "https://localhost:8080/"
        },
        "id": "aD3XMDkQMGdP",
        "outputId": "2ec99d91-5353-40dc-9db1-66c7f120e6a9"
      },
      "outputs": [
        {
          "output_type": "stream",
          "name": "stdout",
          "text": [
            "Enter Password Length : 16\n",
            "G?&w2\\7M.ryWj,DA\n"
          ]
        }
      ],
      "source": [
        "import random\n",
        "import string\n",
        "\n",
        "total = string.ascii_letters + string.digits + string.punctuation\n",
        "\n",
        "length = int(input(\"Enter Password Length : \"))\n",
        "\n",
        "password = \"\".join(random.sample(total, length))\n",
        "\n",
        "print(password)"
      ]
    },
    {
      "cell_type": "code",
      "source": [
        ""
      ],
      "metadata": {
        "id": "pCXZR22BPKNV"
      },
      "execution_count": null,
      "outputs": []
    }
  ]
}