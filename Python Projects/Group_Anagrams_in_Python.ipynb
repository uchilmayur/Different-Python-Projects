{
  "nbformat": 4,
  "nbformat_minor": 0,
  "metadata": {
    "colab": {
      "name": "Group Anagrams in Python",
      "provenance": []
    },
    "kernelspec": {
      "name": "python3",
      "display_name": "Python 3"
    },
    "language_info": {
      "name": "python"
    },
    "accelerator": "GPU",
    "gpuClass": "standard"
  },
  "cells": [
    {
      "cell_type": "markdown",
      "source": [
        "Anagrams are words formed by rearranging the letters of another word, For example, car and arc, cat and act, etc. Grouping anagrams is one of the popular questions in coding interviews."
      ],
      "metadata": {
        "id": "U2xda_MA_qJr"
      }
    },
    {
      "cell_type": "code",
      "execution_count": 18,
      "metadata": {
        "id": "E_nJIrTb2UyA"
      },
      "outputs": [],
      "source": [
        "words = [\"tea\", \"eat\", \"bat\", \"ate\", \"arc\", \"car\"]"
      ]
    },
    {
      "cell_type": "code",
      "source": [
        "class Solution:\n",
        "   def groupAnagrams(self, strs):\n",
        "      result = {}\n",
        "      for i in strs:\n",
        "         x = \"\".join(sorted(i))\n",
        "         if x in result:\n",
        "            result[x].append(i)\n",
        "         else:\n",
        "            result[x] = [i]\n",
        "      return list(result.values())\n",
        "ob1 = Solution()\n",
        "print(ob1.groupAnagrams(words))\n"
      ],
      "metadata": {
        "colab": {
          "base_uri": "https://localhost:8080/"
        },
        "id": "EuxlmyIn2-MH",
        "outputId": "0638de6a-97dd-4198-a9e9-c9ce1f03895b"
      },
      "execution_count": 19,
      "outputs": [
        {
          "output_type": "stream",
          "name": "stdout",
          "text": [
            "[['tea', 'eat', 'ate'], ['bat'], ['arc', 'car']]\n"
          ]
        }
      ]
    },
    {
      "cell_type": "code",
      "source": [
        ""
      ],
      "metadata": {
        "id": "m_pjhXuK2-n-"
      },
      "execution_count": null,
      "outputs": []
    }
  ]
}