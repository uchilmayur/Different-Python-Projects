{
  "nbformat": 4,
  "nbformat_minor": 0,
  "metadata": {
    "colab": {
      "name": "Rock Paper Scissors Game",
      "provenance": []
    },
    "kernelspec": {
      "name": "python3",
      "display_name": "Python 3"
    },
    "language_info": {
      "name": "python"
    },
    "accelerator": "GPU",
    "gpuClass": "standard"
  },
  "cells": [
    {
      "cell_type": "markdown",
      "source": [
        "Rock Paper Scissors is a hand game usually played between two people. In this game, scissors can beat paper, paper can beat rock, and rock can beat scissors\n",
        "To create and play rock paper scissors , we will be using the if and elif statements in Python. We will prepare this game to be played between two players. Player-1 will be the user, and player-2 will be the computer. Player one will manually select the rock paper or scissor, while player two will choose randomly. So we will also use the random module in Python to create this game."
      ],
      "metadata": {
        "id": "8fQe4cmAHoRX"
      }
    },
    {
      "cell_type": "code",
      "source": [
        "import random\n",
        "\n",
        "player1 = input(\"Select Rock, Paper, or Scissor :\").lower()\n",
        "player2 = random.choice([\"Rock\", \"Paper\", \"Scissor\"]).lower()\n",
        "print(\"Player 2 selected: \", player2)\n",
        "\n",
        "if player1 == \"rock\" and player2 == \"paper\":\n",
        "    print(\"Player 2 Won\")\n",
        "elif player1 == \"paper\" and player2 == \"scissor\":\n",
        "    print(\"Player 2 Won\")\n",
        "elif player1 == \"scissor\" and player2 == \"rock\":\n",
        "    print(\"Player 2 Won\")\n",
        "elif player1 == player2:\n",
        "    print(\"Tie\")\n",
        "else:\n",
        "    print(\"Player 1 Won\")"
      ],
      "metadata": {
        "colab": {
          "base_uri": "https://localhost:8080/"
        },
        "id": "u1W2l0dgHC4i",
        "outputId": "5ded99b5-e583-4541-b277-a3a8cf721bf7"
      },
      "execution_count": 22,
      "outputs": [
        {
          "output_type": "stream",
          "name": "stdout",
          "text": [
            "Select Rock, Paper, or Scissor :rock\n",
            "Player 2 selected:  scissor\n",
            "Player 1 Won\n"
          ]
        }
      ]
    },
    {
      "cell_type": "code",
      "source": [
        ""
      ],
      "metadata": {
        "id": "qz8607-fH-WL"
      },
      "execution_count": null,
      "outputs": []
    }
  ]
}